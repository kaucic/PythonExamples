{
 "cells": [
  {
   "cell_type": "code",
   "execution_count": 2,
   "metadata": {
    "collapsed": false
   },
   "outputs": [
    {
     "data": {
      "text/html": [
       "<div id=\"scene0\"><div id=\"glowscript\" class=\"glowscript\"></div></div>"
      ],
      "text/plain": [
       "<IPython.core.display.HTML object>"
      ]
     },
     "metadata": {},
     "output_type": "display_data"
    },
    {
     "data": {
      "application/javascript": [
       "require.undef(\"nbextensions/glow.1.0.min\");"
      ],
      "text/plain": [
       "<IPython.core.display.Javascript object>"
      ]
     },
     "metadata": {},
     "output_type": "display_data"
    },
    {
     "data": {
      "application/javascript": [
       "require.undef(\"nbextensions/jquery-ui.custom.min\");"
      ],
      "text/plain": [
       "<IPython.core.display.Javascript object>"
      ]
     },
     "metadata": {},
     "output_type": "display_data"
    },
    {
     "data": {
      "application/javascript": [
       "require.undef(\"nbextensions/glow.1.1.min\");"
      ],
      "text/plain": [
       "<IPython.core.display.Javascript object>"
      ]
     },
     "metadata": {},
     "output_type": "display_data"
    },
    {
     "data": {
      "application/javascript": [
       "require.undef(\"nbextensions/glowcomm\");"
      ],
      "text/plain": [
       "<IPython.core.display.Javascript object>"
      ]
     },
     "metadata": {},
     "output_type": "display_data"
    },
    {
     "data": {
      "application/javascript": [
       "require([\"nbextensions/glowcomm\"], function(){console.log(\"glowcomm loaded\");})"
      ],
      "text/plain": [
       "<IPython.core.display.Javascript object>"
      ]
     },
     "metadata": {},
     "output_type": "display_data"
    }
   ],
   "source": [
    "# After installing ivisual package using :  pip install ivisual\n",
    "from ivisual import *"
   ]
  },
  {
   "cell_type": "code",
   "execution_count": 4,
   "metadata": {
    "collapsed": false
   },
   "outputs": [],
   "source": [
    "scene.x = 0\n",
    "scene.y = 0\n",
    "scene.width = 1000\n",
    "scene.height = 1000\n",
    "scene.title = \"Conway's Game of Life in VPython on a Toroidal Surface\"\n",
    "scene.ambient = 1\n",
    "scene.background = (0.3,0.3,0.3)\n",
    "invisBall = sphere(pos = (11,11,11), opacity = 1)\n",
    "generationCounter = 0\n",
    "\n",
    "UNIVERSE_SIZE = 50\n",
    "\n",
    "universe = [[0 for x in range (UNIVERSE_SIZE)] for x in range (UNIVERSE_SIZE)]\n",
    "tempUniverse = [[0 for x in range (UNIVERSE_SIZE)] for x in range (UNIVERSE_SIZE)]\n",
    "neighborCounts = [[0 for x in range(UNIVERSE_SIZE)] for x in range (UNIVERSE_SIZE)]\n",
    "cell = box(pos = (0,0,0), length = 1, width = 1, height = 1, color = color.green, visible = False)\n",
    "cells = [[cell for x in range(UNIVERSE_SIZE)] for y in range(UNIVERSE_SIZE)]\n",
    "\n",
    "def checkNeighbors(x, y):\n",
    "    neighborCount = 0\n",
    "    for i in range (-1, 2):\n",
    "        for j in range (-1, 2):\n",
    "            if(i == 0 and j == 0):\n",
    "                continue\n",
    "            \n",
    "            xcol = x+i\n",
    "            if(xcol < 0):\n",
    "                xcol += universe.__len__()\n",
    "            if(xcol > universe.__len__() - 1):\n",
    "                xcol -= universe.__len__()\n",
    "                \n",
    "            ycol = y+j\n",
    "            if(ycol < 0):\n",
    "                ycol += universe.__len__()\n",
    "            if(ycol > universe.__len__() - 1):\n",
    "                ycol -= universe.__len__()\n",
    "                \n",
    "            if(universe[xcol][ycol] == 1):\n",
    "                neighborCount += 1\n",
    "                \n",
    "    return neighborCount\n",
    "\n",
    "def updateUniverse():\n",
    "    for i in range(universe.__len__()):\n",
    "        for j in range(universe.__len__()):\n",
    "            neighborCounts[i][j] = checkNeighbors(i,j)\n",
    "            tempUniverse[i][j] = universe[i][j]\n",
    "            \n",
    "    for i in range(universe.__len__()):\n",
    "        for j in range(universe.__len__()):\n",
    "            n = neighborCounts[i][j]\n",
    "            s = tempUniverse[i][j]\n",
    "            if(s == 0 and n == 3):\n",
    "                universe[i][j] = 1\n",
    "            elif(s == 1 and n < 2):\n",
    "                universe[i][j] = 0\n",
    "            elif(s == 1 and n > 3):\n",
    "                universe[i][j] = 0\n",
    "    \n",
    "def drawUniverse():\n",
    "    for i in range(universe.__len__()):\n",
    "        for j in range(universe.__len__()):\n",
    "            if(universe[i][j] == 1):\n",
    "                cells[i][j].visible = True\n",
    "            else:\n",
    "                cells[i][j].visible = False\n",
    "                \n",
    "#edit this method to change the initial state of the universe\n",
    "def setInitialConditions():\n",
    "    for i in range(universe.__len__()):\n",
    "        for j in range(universe.__len__()):\n",
    "            cells[i][j] = box(pos = ((i - universe.__len__() / 2) * 1.1, (j - universe.__len__() / 2) * 1.1, 0), length = 1, width = 1, height = 1, color = color.green)\n",
    "    glider(5,5)\n",
    "    \n",
    "def acorn(x, y):\n",
    "    universe[x+1][y] = 1\n",
    "    universe[x+3][y+1] = 1\n",
    "    universe[x][y+2] = 1\n",
    "    universe[x+1][y+2] = 1\n",
    "    universe[x+4][y+2] = 1\n",
    "    universe[x+5][y+2] = 1\n",
    "    universe[x+6][y+2] = 1\n",
    "\n",
    "def glider(x, y):\n",
    "    universe[x][y] = 1\n",
    "    universe[x+1][y+1] = 1\n",
    "    universe[x+2][y-1] = 1\n",
    "    universe[x+2][y] = 1\n",
    "    universe[x+2][y+1] = 1\n",
    "\n",
    "def lwss(x, y):\n",
    "    universe[x+1][y] = 1\n",
    "    universe[x+2][y] = 1\n",
    "    universe[x+3][y] = 1\n",
    "    universe[x+4][y] = 1\n",
    "    universe[x][y+1] = 1\n",
    "    universe[x+4][y+1] = 1\n",
    "    universe[x+4][y+2] = 1\n",
    "    universe[x][y+3] = 1\n",
    "    universe[x+3][y+3] = 1\n",
    "    \n",
    "def printDoubleArray(array):\n",
    "    for i in range(array.__len__()):\n",
    "        s = \"[ \"\n",
    "        for j in range(array.__len__()):\n",
    "            s = s + str(array[i][j]) + \" \"\n",
    "        s = s + \"]\"\n",
    "        print(s)\n",
    "\n",
    "setInitialConditions()\n",
    "\n",
    "while(generationCounter < 500):\n",
    "    rate(100)\n",
    "    drawUniverse()\n",
    "    updateUniverse()\n",
    "    generationCounter += 1\n",
    "    #print(generationCounter)\n"
   ]
  },
  {
   "cell_type": "code",
   "execution_count": 3,
   "metadata": {
    "collapsed": false
   },
   "outputs": [],
   "source": []
  }
 ],
 "metadata": {
  "kernelspec": {
   "display_name": "Python 2",
   "language": "python",
   "name": "python2"
  },
  "language_info": {
   "codemirror_mode": {
    "name": "ipython",
    "version": 2
   },
   "file_extension": ".py",
   "mimetype": "text/x-python",
   "name": "python",
   "nbconvert_exporter": "python",
   "pygments_lexer": "ipython2",
   "version": "2.7.10"
  }
 },
 "nbformat": 4,
 "nbformat_minor": 0
}
